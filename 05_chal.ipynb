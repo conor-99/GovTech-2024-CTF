{
 "cells": [
  {
   "cell_type": "markdown",
   "metadata": {
    "vscode": {
     "languageId": "plaintext"
    }
   },
   "source": [
    "## Helpers"
   ]
  },
  {
   "cell_type": "code",
   "execution_count": 6,
   "metadata": {},
   "outputs": [],
   "source": [
    "import os\n",
    "import requests\n",
    "import time\n",
    "from dotenv import load_dotenv\n",
    "\n",
    "load_dotenv()\n",
    "\n",
    "API_KEY = os.environ[\"API_KEY\"]\n",
    "URL_QUERY = \"https://%s.crucible.dreadnode.io/score\"\n",
    "URL_FLAG = \"https://crucible.dreadnode.io/api/challenges/%s/submit-flag\"\n",
    "URL_ARTIFACT = \"https://crucible.dreadnode.io/api/artifacts/%s/%s\"\n",
    "DIR_ARTIFACTS = \"./artifacts\"\n",
    "DIR_DATA = \"./data\"\n",
    "\n",
    "def query(data, challenge, key=\"data\"):\n",
    "    backoff = 1\n",
    "    while True:\n",
    "        try:\n",
    "            response = requests.post(\n",
    "                URL_QUERY % challenge,\n",
    "                headers={ \"X-API-Key\": API_KEY },\n",
    "                json={ key: data }\n",
    "            )\n",
    "            return response.json()\n",
    "        except KeyboardInterrupt:\n",
    "            return None\n",
    "        except:\n",
    "            time.sleep(backoff * 2)\n",
    "            backoff += 1\n",
    "\n",
    "def submit(flag, challenge):\n",
    "    response = requests.post(\n",
    "        URL_FLAG % challenge,\n",
    "        headers={ \"X-API-Key\": API_KEY },\n",
    "        json={ \"challenge\": challenge, \"flag\": flag }\n",
    "    )\n",
    "    return False if response.status_code != 200 else response.json().get(\"correct\")\n",
    "\n",
    "def get_artifacts(challenge, artifacts=[]):\n",
    "    for artifact in artifacts:\n",
    "        response = requests.get(\n",
    "            URL_ARTIFACT % (challenge, artifact),\n",
    "            headers={ \"X-API-Key\": API_KEY }\n",
    "        )\n",
    "        if response.status_code == 200:\n",
    "            with open(os.path.join(DIR_ARTIFACTS, artifact), \"wb\") as f:\n",
    "                f.write(response.content)\n",
    "            print(f\"{artifact} downloaded\")\n",
    "        else:\n",
    "            print(f\"{artifact} not downloaded\")"
   ]
  },
  {
   "cell_type": "markdown",
   "metadata": {},
   "source": [
    "## Challenge"
   ]
  },
  {
   "cell_type": "code",
   "execution_count": 1,
   "metadata": {},
   "outputs": [],
   "source": [
    "CHALLENGE = \"\"\n",
    "#submit(\"\", CHALLENGE)"
   ]
  },
  {
   "cell_type": "code",
   "execution_count": null,
   "metadata": {},
   "outputs": [],
   "source": []
  }
 ],
 "metadata": {
  "kernelspec": {
   "display_name": "venv",
   "language": "python",
   "name": "python3"
  },
  "language_info": {
   "codemirror_mode": {
    "name": "ipython",
    "version": 3
   },
   "file_extension": ".py",
   "mimetype": "text/x-python",
   "name": "python",
   "nbconvert_exporter": "python",
   "pygments_lexer": "ipython3",
   "version": "3.8.10"
  }
 },
 "nbformat": 4,
 "nbformat_minor": 2
}
